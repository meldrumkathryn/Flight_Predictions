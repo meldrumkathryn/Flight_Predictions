{
 "cells": [
  {
   "cell_type": "markdown",
   "metadata": {},
   "source": [
    "# KNN Modeling"
   ]
  },
  {
   "cell_type": "markdown",
   "metadata": {},
   "source": [
    "## Importing Packages"
   ]
  },
  {
   "cell_type": "code",
   "execution_count": null,
   "metadata": {},
   "outputs": [],
   "source": [
    "import pandas as pd\n",
    "import numpy as np\n",
    "import matplotlib.pyplot as plt\n",
    "from sklearn.model_selection import train_test_split\n",
    "from sklearn.neighbors import KNeighborsClassifier\n",
    "from sklearn import preprocessing\n",
    "from sklearn.metrics import classification_report, confusion_matrix, accuracy_score\n",
    "import os"
   ]
  },
  {
   "cell_type": "markdown",
   "metadata": {},
   "source": [
    "## Connect to directory and get list of files"
   ]
  },
  {
   "cell_type": "code",
   "execution_count": null,
   "metadata": {},
   "outputs": [],
   "source": [
    "os.chdir('/home/lmh2ur/DS5110')"
   ]
  },
  {
   "cell_type": "code",
   "execution_count": null,
   "metadata": {},
   "outputs": [],
   "source": [
    "years = [\"2008.csv\", '2007.csv', '2006.csv', '2005.csv', '2004.csv', '2003.csv','2000.csv','1999.csv','1998.csv', '1997.csv','1996.csv','1995.csv','1994.csv','1993.csv','1992.csv','1991.csv','1990.csv','1989.csv','1988.csv','1987.csv']"
   ]
  },
  {
   "cell_type": "code",
   "execution_count": null,
   "metadata": {},
   "outputs": [],
   "source": [
    "years"
   ]
  },
  {
   "cell_type": "markdown",
   "metadata": {},
   "source": [
    "## Data Preprocessing"
   ]
  },
  {
   "cell_type": "code",
   "execution_count": null,
   "metadata": {},
   "outputs": [],
   "source": [
    "def clean_df(df):\n",
    "\n",
    "    #helper funtion to make Classification column \n",
    "    def func(row):\n",
    "        if pd.isnull(row['ArrDelay']):\n",
    "            return 'Cancelled'\n",
    "        else:\n",
    "            if row['ArrDelay']>60:\n",
    "                return 'Very Delayed'\n",
    "            else:\n",
    "                if row['ArrDelay']>30:\n",
    "                    return 'Delayed'\n",
    "                else:\n",
    "                    return 'On time'\n",
    "            \n",
    "    df = df[['Year', 'Month', 'DayofMonth', 'DayOfWeek', 'CRSDepTime',\n",
    "       'CRSArrTime', 'CRSElapsedTime', 'Distance', 'ArrDelay']]\n",
    "    \n",
    "    #apply helper function\n",
    "    df['DelayClass'] = df.apply(func, axis=1)\n",
    "\n",
    "    return df.reset_index(drop=True)"
   ]
  },
  {
   "cell_type": "code",
   "execution_count": null,
   "metadata": {},
   "outputs": [],
   "source": [
    "data=clean_df(pd.read_csv('1997.csv', dtype={'CancellationCode': 'object'}))\n",
    "for year in years:\n",
    "    print(year)\n",
    "    try: \n",
    "        data_new=clean_df(pd.read_csv(year, dtype={'CancellationCode': 'object'}))\n",
    "        data=pd.concat([data, data_new], axis=0)\n",
    "    except:\n",
    "        print(year, 'fail')"
   ]
  },
  {
   "cell_type": "markdown",
   "metadata": {},
   "source": [
    "## Normalize and split data"
   ]
  },
  {
   "cell_type": "code",
   "execution_count": null,
   "metadata": {},
   "outputs": [],
   "source": [
    "num_data = data.drop(columns=['ArrDelay']).dropna().reset_index(drop=True)"
   ]
  },
  {
   "cell_type": "code",
   "execution_count": null,
   "metadata": {},
   "outputs": [],
   "source": [
    "x = num_data.drop(columns=['DelayClass'])"
   ]
  },
  {
   "cell_type": "code",
   "execution_count": null,
   "metadata": {},
   "outputs": [],
   "source": [
    "y = num_data.DelayClass"
   ]
  },
  {
   "cell_type": "code",
   "execution_count": null,
   "metadata": {},
   "outputs": [],
   "source": [
    "MinMaxScaler = preprocessing.MinMaxScaler()\n",
    "x_data_minmax = MinMaxScaler.fit_transform(x)\n",
    "x = pd.DataFrame(x_data_minmax, columns=['Year', 'Month', 'DayofMonth', 'DayOfWeek', 'CRSDepTime',\n",
    "       'CRSArrTime', 'CRSElapsedTime', 'Distance'])"
   ]
  },
  {
   "cell_type": "code",
   "execution_count": null,
   "metadata": {},
   "outputs": [],
   "source": [
    "x_train, x_test, y_train, y_test = train_test_split(\n",
    "    x, y, test_size=0.2, random_state=12345)"
   ]
  },
  {
   "cell_type": "markdown",
   "metadata": {},
   "source": [
    "## KNN Classification Model"
   ]
  },
  {
   "cell_type": "code",
   "execution_count": null,
   "metadata": {},
   "outputs": [],
   "source": [
    "knn = KNeighborsClassifier(n_neighbors=19, algorithm='ball_tree', n_jobs=127)\n",
    "knn.fit(x_train, y_train)"
   ]
  },
  {
   "cell_type": "code",
   "execution_count": null,
   "metadata": {},
   "outputs": [],
   "source": [
    "ypred=knn.predict(x_test)"
   ]
  },
  {
   "cell_type": "code",
   "execution_count": null,
   "metadata": {},
   "outputs": [],
   "source": [
    "result = confusion_matrix(y_test, ypred)\n",
    "print('Confusion Matrix:')\n",
    "print(result)\n",
    "result1 = classification_report(y_test, ypred)\n",
    "print('Classification Report:',)\n",
    "print (result1)\n",
    "result2 = accuracy_score(y_test, ypred)\n",
    "print('Accuracy:',result2)"
   ]
  },
  {
   "cell_type": "markdown",
   "metadata": {},
   "source": [
    "## KNN Function"
   ]
  },
  {
   "cell_type": "code",
   "execution_count": null,
   "metadata": {},
   "outputs": [],
   "source": [
    "for year in years:\n",
    "    print(year)\n",
    "    \n",
    "    data=clean_df(pd.read_csv(year, dtype={'CancellationCode': 'object'}))\n",
    "    num_data = data.drop(columns=['ArrDelay', 'Year']).dropna().reset_index(drop=True)\n",
    "    x = num_data.drop(columns=['DelayClass'])\n",
    "    y = num_data.DelayClass\n",
    "    \n",
    "    MinMaxScaler = preprocessing.MinMaxScaler()\n",
    "    x_data_minmax = MinMaxScaler.fit_transform(x)\n",
    "    x = pd.DataFrame(x_data_minmax, columns=['Month', 'DayofMonth', 'DayOfWeek', 'CRSDepTime',\n",
    "       'CRSArrTime', 'CRSElapsedTime', 'Distance'])\n",
    "    \n",
    "    x_train, x_test, y_train, y_test = train_test_split(x, y, test_size=0.2, random_state=12345)\n",
    "    \n",
    "    knn = KNeighborsClassifier(n_neighbors=19, algorithm='ball_tree')\n",
    "    knn.fit(x_train, y_train)\n",
    "    \n",
    "    ypred=knn.predict(x_test)\n",
    "    \n",
    "    result = confusion_matrix(y_test, ypred)\n",
    "    print('Confusion Matrix:' + year)\n",
    "    print(result)\n",
    "    result1 = classification_report(y_test, ypred)\n",
    "    print('Classification Report:' + year,)\n",
    "    print (result1)\n",
    "    result2 = accuracy_score(y_test, ypred)\n",
    "    print('Accuracy:' + year, result2)"
   ]
  },
  {
   "cell_type": "markdown",
   "metadata": {},
   "source": [
    "## Plot Accuracies"
   ]
  },
  {
   "cell_type": "code",
   "execution_count": null,
   "metadata": {},
   "outputs": [],
   "source": [
    "year_list = ['1987', '1988', '1989', '1990', '1991', '1992', '1993', '1994', '1995', '1996', '1997', '1998', '1999', '2000', '2003', '2004', '2005', '2006', '2007', '2008']\n",
    "acc_list = [0.885, 0.91, 0.884, 0.903, 0.921, 0.923, 0.914, 0.911, 0.889, 0.858, 0.882, 0.865, 0.858, 0.829, 0.896, 0.869, 0.864, 0.85, 0.833, 0.827]"
   ]
  },
  {
   "cell_type": "code",
   "execution_count": null,
   "metadata": {},
   "outputs": [],
   "source": [
    "import matplotlib.pyplot as plt"
   ]
  },
  {
   "cell_type": "code",
   "execution_count": null,
   "metadata": {},
   "outputs": [],
   "source": []
  },
  {
   "cell_type": "code",
   "execution_count": null,
   "metadata": {},
   "outputs": [],
   "source": [
    "fig = plt.figure(figsize =(14, 8))\n",
    "plt.bar(year_list, acc_list, width=0.4, color='maroon')\n",
    "plt.xlabel('Year')\n",
    "plt.title('KNN Prediction Accuracy Per Year')\n",
    "plt.ylim([0.7, 1])\n",
    "\n",
    "\n",
    " \n",
    "plt.show()"
   ]
  },
  {
   "cell_type": "markdown",
   "metadata": {},
   "source": [
    "## EDA"
   ]
  },
  {
   "cell_type": "code",
   "execution_count": null,
   "metadata": {},
   "outputs": [],
   "source": [
    "months = data.groupby(['Month', 'DelayClass']).agg({'DelayClass':'count'})"
   ]
  },
  {
   "cell_type": "code",
   "execution_count": null,
   "metadata": {},
   "outputs": [],
   "source": [
    "months.groupby(level=0).apply(lambda x:100 * x / float(x.sum()))"
   ]
  },
  {
   "cell_type": "code",
   "execution_count": null,
   "metadata": {},
   "outputs": [],
   "source": [
    "week_day = data.groupby(['DayOfWeek', 'DelayClass']).agg({'DelayClass':'count'})"
   ]
  },
  {
   "cell_type": "code",
   "execution_count": null,
   "metadata": {},
   "outputs": [],
   "source": [
    "week_day.groupby(level=0).apply(lambda x:100 * x / float(x.sum()))"
   ]
  },
  {
   "cell_type": "markdown",
   "metadata": {},
   "source": [
    "On time = 6, delayed = 5, very delayed = 5, cancelled = 2"
   ]
  },
  {
   "cell_type": "code",
   "execution_count": null,
   "metadata": {},
   "outputs": [],
   "source": [
    "data.Distance.mean()"
   ]
  },
  {
   "cell_type": "code",
   "execution_count": null,
   "metadata": {},
   "outputs": [],
   "source": [
    "data.CRSElapsedTime.mean()"
   ]
  }
 ],
 "metadata": {
  "kernelspec": {
   "display_name": "Python 3",
   "language": "python",
   "name": "python3"
  },
  "language_info": {
   "codemirror_mode": {
    "name": "ipython",
    "version": 3
   },
   "file_extension": ".py",
   "mimetype": "text/x-python",
   "name": "python",
   "nbconvert_exporter": "python",
   "pygments_lexer": "ipython3",
   "version": "3.8.8"
  }
 },
 "nbformat": 4,
 "nbformat_minor": 4
}
